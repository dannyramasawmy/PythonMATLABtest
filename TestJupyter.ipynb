{
 "metadata": {
  "language_info": {
   "codemirror_mode": {
    "name": "ipython",
    "version": 3
   },
   "file_extension": ".py",
   "mimetype": "text/x-python",
   "name": "python",
   "nbconvert_exporter": "python",
   "pygments_lexer": "ipython3",
   "version": "3.7.6-final"
  },
  "orig_nbformat": 2,
  "kernelspec": {
   "name": "python3",
   "display_name": "Python 3"
  }
 },
 "nbformat": 4,
 "nbformat_minor": 2,
 "cells": [
  {
   "cell_type": "code",
   "execution_count": 1,
   "metadata": {},
   "outputs": [
    {
     "output_type": "stream",
     "name": "stdout",
     "text": [
      "This is 0.\nThis is 1.\nThis is 2.\nThis is 3.\nThis is 4.\nThis is 5.\nThis is 6.\nThis is 7.\nThis is 8.\nThis is 9.\n"
     ]
    }
   ],
   "source": [
    "for i in range(0, 10):\n",
    "    print(f'This is {i}.')"
   ]
  },
  {
   "cell_type": "code",
   "execution_count": 6,
   "metadata": {},
   "outputs": [
    {
     "output_type": "stream",
     "name": "stdout",
     "text": [
      "John at 0123456 | Jo at 0126456 | Jane at 0133156 | Jo at 0123333\nJo..Ring ring..\n"
     ]
    }
   ],
   "source": [
    "from MyLibrary import PhoneBook, Contact\n",
    "\n",
    "# quick phone book example\n",
    "myPB = PhoneBook()\n",
    "myPB.add('John', '0123456')\n",
    "myPB.add('Jane', '0133156')\n",
    "myPB.add('Jo', '0126456')\n",
    "myPB.add('Jo', '0126456')\n",
    "myPB.add('Jo', '0123333')\n",
    "print(myPB)    \n",
    "myPB.ring('Jo')"
   ]
  }
 ]
}